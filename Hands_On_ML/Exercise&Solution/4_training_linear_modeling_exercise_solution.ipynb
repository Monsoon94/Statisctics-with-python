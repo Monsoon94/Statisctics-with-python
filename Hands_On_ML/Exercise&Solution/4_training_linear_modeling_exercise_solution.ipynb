{
  "nbformat": 4,
  "nbformat_minor": 0,
  "metadata": {
    "colab": {
      "provenance": [],
      "authorship_tag": "ABX9TyPYZu9XbNMOakTWYsvzQziH",
      "include_colab_link": true
    },
    "kernelspec": {
      "name": "python3",
      "display_name": "Python 3"
    },
    "language_info": {
      "name": "python"
    }
  },
  "cells": [
    {
      "cell_type": "markdown",
      "metadata": {
        "id": "view-in-github",
        "colab_type": "text"
      },
      "source": [
        "<a href=\"https://colab.research.google.com/github/Monsoon94/Statisctics-with-python/blob/main/Hands_On_ML/Exercise%26Solution/4_training_linear_modeling_exercise_solution.ipynb\" target=\"_parent\"><img src=\"https://colab.research.google.com/assets/colab-badge.svg\" alt=\"Open In Colab\"/></a>"
      ]
    },
    {
      "cell_type": "markdown",
      "source": [
        "# 4. training linear modeling exercise/solution"
      ],
      "metadata": {
        "id": "ffgnsWeYezzT"
      }
    },
    {
      "cell_type": "markdown",
      "source": [
        "1. Which linear regression training algorithm can you use if you have a training set with millions of features?"
      ],
      "metadata": {
        "id": "uz3fJVBBe3pR"
      }
    },
    {
      "cell_type": "markdown",
      "source": [
        "2. Suppose the features in your training set have very different scales. Which algorithms might suffer from this, and how? What can you do about it?"
      ],
      "metadata": {
        "id": "EQGANW88e3gH"
      }
    },
    {
      "cell_type": "markdown",
      "source": [
        "3. Can gradient descent get stuck in a local minimum when training a logistic regression model?"
      ],
      "metadata": {
        "id": "Fj309PNZfG_V"
      }
    },
    {
      "cell_type": "markdown",
      "source": [
        "4. Do all gradient descent algorithms lead to the same model, provided you let them run long enough?"
      ],
      "metadata": {
        "id": "MTAAgWJMfG9G"
      }
    },
    {
      "cell_type": "markdown",
      "source": [
        "5. Suppose you use batch gradient descent and you plot the validation error at every epoch. If you notice that the validation error consistently goes up, what is likely going on? How can you fix this?"
      ],
      "metadata": {
        "id": "dxuf7h7GfG6g"
      }
    },
    {
      "cell_type": "markdown",
      "source": [
        "6. Is it a good idea to stop mini-batch gradient descent immediately when the validation error goes up?"
      ],
      "metadata": {
        "id": "pT26G273e3O8"
      }
    },
    {
      "cell_type": "markdown",
      "source": [
        "7. Which gradient descent algorithm (among those we discussed) will reach the vicinity of the optimal solution the fastest? Which will actually converge? How can you make the others converge as well?"
      ],
      "metadata": {
        "id": "sr9RRbZhe3Ie"
      }
    },
    {
      "cell_type": "markdown",
      "source": [
        "8. Suppose you are using polynomial regression. You plot the learning curves and you notice that there is a large gap between the training error and the validation error. What is happening? What are three ways to solve this?"
      ],
      "metadata": {
        "id": "_RkKCN6DfRYv"
      }
    },
    {
      "cell_type": "markdown",
      "source": [
        "9. Suppose you are using ridge regression and you notice that the training error and the validation error are almost equal and fairly high. Would you say that the model suffers from high bias or high variance? Should you increase the regularization hyperparameter α or reduce it?"
      ],
      "metadata": {
        "id": "6ueAMRQ5fRVS"
      }
    },
    {
      "cell_type": "markdown",
      "source": [
        "10. Why would you want to use:\n",
        "\n",
        "  1) Ridge regression instead of plain linear regression (i.e., without any regularization)?\n",
        "\n",
        "  2) Lasso instead of ridge regression?\n",
        "\n",
        "  3) Elastic net instead of lasso regression?"
      ],
      "metadata": {
        "id": "sr1QuvMdfRRq"
      }
    },
    {
      "cell_type": "markdown",
      "source": [
        "11. Suppose you want to classify pictures as outdoor/indoor and daytime/nighttime. Should you implement two logistic regression classifiers or one softmax regression classifier?"
      ],
      "metadata": {
        "id": "OURXY1nWfYMZ"
      }
    },
    {
      "cell_type": "markdown",
      "source": [
        "12. Implement batch gradient descent with early stopping for softmax regression without using Scikit-Learn, only NumPy. Use it on a classification task such as the iris dataset."
      ],
      "metadata": {
        "id": "dpSQsJ5CfYJm"
      }
    },
    {
      "cell_type": "code",
      "source": [],
      "metadata": {
        "id": "UsJm6udffUkG"
      },
      "execution_count": null,
      "outputs": []
    }
  ]
}