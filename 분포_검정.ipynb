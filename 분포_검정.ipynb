{
  "nbformat": 4,
  "nbformat_minor": 0,
  "metadata": {
    "colab": {
      "provenance": [],
      "authorship_tag": "ABX9TyN+1tLrCggb6ijIiIynAGEv",
      "include_colab_link": true
    },
    "kernelspec": {
      "name": "python3",
      "display_name": "Python 3"
    },
    "language_info": {
      "name": "python"
    }
  },
  "cells": [
    {
      "cell_type": "markdown",
      "metadata": {
        "id": "view-in-github",
        "colab_type": "text"
      },
      "source": [
        "<a href=\"https://colab.research.google.com/github/Monsoon94/Statisctics-with-python/blob/main/%EB%B6%84%ED%8F%AC_%EA%B2%80%EC%A0%95.ipynb\" target=\"_parent\"><img src=\"https://colab.research.google.com/assets/colab-badge.svg\" alt=\"Open In Colab\"/></a>"
      ]
    },
    {
      "cell_type": "markdown",
      "source": [
        "# 분포 검정 방법\n",
        "- 해당 표본이 특정 분포를 따르는지 검정하는 법에 대해 서술할 예정."
      ],
      "metadata": {
        "id": "sM1VZ0Re9xEI"
      }
    },
    {
      "cell_type": "markdown",
      "source": [
        "# 정규분포를 따르는가? 정규성 검정"
      ],
      "metadata": {
        "id": "k3tAtCLT96k4"
      }
    },
    {
      "cell_type": "markdown",
      "source": [
        "## Jarque-Bera goodness of fit test\n",
        "\n",
        "1. 통계량 :\n",
        "<br/>\n",
        "$$ JB =  \\frac{n}{6} ( S^{2} +  \\frac{1}{4}(K-3)^{2}  ) $$\n",
        "<br/>\n",
        "<br/>\n",
        "- $n$ : 표본의 개수\n",
        "- $S$ : 왜도\n",
        "- $K$ : 첨도\n",
        "\n",
        "<br/>\n",
        "2. 설명\n",
        "\n",
        "- $S^{2}$ : 왜도가 0에서 벗어난 정도를 측정\n",
        "\n",
        "- $(K-3)^{2}$ : 첨도가 3에서 벗어난 정도는 측정\n",
        "\n"
      ],
      "metadata": {
        "id": "CRHW0EPI-S67"
      }
    },
    {
      "cell_type": "markdown",
      "source": [
        "장점\n",
        "- 왜도와 첨도라는 직관적인 지표를 사용하여 정규성을 평가합니다.\n",
        "- 계산이 간단하며, 표본 크기가 크면 매우 유용합니다.\n",
        "\n",
        "단점\n",
        "- 표본 크기에 민감: 작은 표본에서는 왜도와 첨도 추정치가 불안정하여 검정력이 떨어질 수 있습니다.\n",
        "- 정규성만 평가: 데이터의 다른 특성(예: 독립성, 등분산성)은 평가하지 않습니다.\n",
        "- 극단값(outliers)에 민감.\n",
        "\n",
        "추가사항\n",
        "- Note that this test only works for a large enough number of data samples (>2000) as the test statistic asymptotically has a Chi-squared distribution with 2 degrees of freedom.\n",
        "(https://docs.scipy.org/doc/scipy/reference/generated/scipy.stats.jarque_bera.html#scipy.stats.jarque_bera)\n",
        "\n",
        "- 검정 통계량은 항상 0 이상의 값을 가지며, 값이 0에서 멀어질수록 데이터가 정규분포를 따르지 않을 가능성을 시사합니다.\n",
        "\n",
        "- 통계적으로, 데이터가 정규분포에서 나왔다면 JB 통계량(Jarque-Bera 통계량)은 자유도가 2인 카이제곱 분포를 점근적으로 따릅니다. 이를 기반으로 데이터가 정규분포에서 유래했는지 검정하는 데 사용할 수 있습니다.\n",
        "\n",
        "- 귀무가설(null hypothesis): 데이터는 정규분포를 따른다. 이는 왜도(skewness)가 0이고 초과 첨도(excess kurtosis)가 0이라는 두 가지 가설을 동시에 검정하는 것입니다.\n",
        "\n",
        "- p-value < alpha(0.05)이면 H0를 기각. 따라서 해당 데이터는 정규분포를 따르지 않음.\n",
        "- p-value > alpha(0.05)이면 H0를 기각하지 못함. 따라서 해당 데이터는 정규분포를 따름"
      ],
      "metadata": {
        "id": "LzO4R13yFGNL"
      }
    },
    {
      "cell_type": "code",
      "source": [
        "from scipy.stats import jarque_bera\n",
        "import numpy as np\n",
        "\n",
        "# 예제 데이터\n",
        "norm = np.random.normal(10, 5, 1000)  # 평균 0, 표준편차 1인 정규분포를 따르는 데이터 100개 생성\n",
        "uni = np.random.uniform(0,1,1000) # [균등분포] 최소 0, 최대 1, 개수 1000개\n",
        "\n",
        "# Jarque-Bera 검정\n",
        "jb_stat, p_value = jarque_bera(uni)\n",
        "\n",
        "print(f\"Jarque-Bera Statistic: {jb_stat}\")\n",
        "print(f\"p-value: {p_value}\")\n",
        "\n",
        "# 결과 해석\n",
        "if p_value < 0.05:\n",
        "    print(\"데이터는 정규분포를 따르지 않습니다.\")\n",
        "else:\n",
        "    print(\"데이터는 정규분포를 따릅니다.\")"
      ],
      "metadata": {
        "colab": {
          "base_uri": "https://localhost:8080/"
        },
        "id": "rJsXgLJY96H7",
        "outputId": "3f087dfd-cbc1-4560-86d1-de4324ae207e"
      },
      "execution_count": 6,
      "outputs": [
        {
          "output_type": "stream",
          "name": "stdout",
          "text": [
            "Jarque-Bera Statistic: 58.7908787209603\n",
            "p-value: 1.7128640430446745e-13\n",
            "데이터는 정규분포를 따르지 않습니다.\n"
          ]
        }
      ]
    },
    {
      "cell_type": "markdown",
      "source": [
        "## Shapiro–Wilk 검정\n",
        "Shapiro–Wilk 검정은 표본 데이터의 순위(rank)를 기반으로 정규분포로부터 생성된 데이터와 얼마나 유사한지를 측정합니다.\n",
        "\n",
        "- H0 : 데이터가 정규분포를 따른다.\n",
        "\n",
        "- 검정통계량 : $W$\n",
        "$$ W=\\frac{( \\sum_{i=1}^n  a_{i} x_{(i)})^{2}}{\\sum_{i=1}^n ( x_{i}- \\overline{x}) ^{2}} $$\n",
        "\n",
        "\n",
        "1. 검정 통계량 $W$\n",
        "- $W$값은 0에서 1 사이의 값\n",
        "- $W$값이 1에 가까울수록 데이터가 정규분포와 유사함.\n",
        "\n",
        "2. p-value < 0.05이면 H0 기각. 따라서 데이터는 정규분포를 따르지 않음.\n",
        "\n",
        "3. 장점\n",
        "- 작은 표본에서도 효율적\n",
        "- 비대칭 데이터에 민감함\n",
        "\n",
        "4. 한계\n",
        "- 표본 크기가 매우 크면($n>5000$) p-value가 항상 작아질 가능성이 있음\n",
        "- 정규성이 미세하게 벗어난 차이도 검출해버릴 수 있음.\n",
        "- 실제로 정규성을 만족하는 데이터라도, 해당 검정이 귀무가설을 기각할 가능성이 생김.\n",
        "- 그에 따라 다른 정규성 검정을 병행하는 것이 바람직할 수 있음.\n",
        "\n"
      ],
      "metadata": {
        "id": "B1LXM-jgHTnt"
      }
    },
    {
      "cell_type": "code",
      "source": [
        "from scipy.stats import shapiro\n",
        "import numpy as np\n",
        "\n",
        "# 정규분포를 따르는 데이터\n",
        "normal_data = np.random.normal(loc=0, scale=1, size=50)\n",
        "\n",
        "\n",
        "\n",
        "# 2. Shapiro–Wilk 검정 수행\n",
        "# 정규분포 데이터 검정\n",
        "stat_normal, p_normal = shapiro(normal_data)\n",
        "print(\"정규분포 데이터\")\n",
        "print(f\"검정 통계량: {stat_normal}, p-value: {p_normal}\")\n",
        "if p_normal < 0.05:\n",
        "    print(\"귀무가설 기각: 데이터는 정규분포를 따르지 않습니다.\")\n",
        "else:\n",
        "    print(\"귀무가설 채택: 데이터는 정규분포를 따릅니다.\")"
      ],
      "metadata": {
        "colab": {
          "base_uri": "https://localhost:8080/"
        },
        "id": "nB4i8xkv96F-",
        "outputId": "ddb70ee3-998f-4387-c40a-0978fa21b878"
      },
      "execution_count": 7,
      "outputs": [
        {
          "output_type": "stream",
          "name": "stdout",
          "text": [
            "정규분포 데이터\n",
            "검정 통계량: 0.9786336984428368, p-value: 0.4958888140074745\n",
            "귀무가설 채택: 데이터는 정규분포를 따릅니다.\n"
          ]
        }
      ]
    },
    {
      "cell_type": "code",
      "source": [
        "# 정규분포를 따르지 않는 데이터 (지수분포)\n",
        "non_normal_data = np.random.exponential(scale=1, size=50)\n",
        "\n",
        "# 비정규분포 데이터 검정\n",
        "stat_non_normal, p_non_normal = shapiro(non_normal_data)\n",
        "print(\"\\n비정규분포 데이터\")\n",
        "print(f\"검정 통계량: {stat_non_normal}, p-value: {p_non_normal}\")\n",
        "if p_non_normal < 0.05:\n",
        "    print(\"귀무가설 기각: 데이터는 정규분포를 따르지 않습니다.\")\n",
        "else:\n",
        "    print(\"귀무가설 채택: 데이터는 정규분포를 따릅니다.\")"
      ],
      "metadata": {
        "colab": {
          "base_uri": "https://localhost:8080/"
        },
        "id": "dExucMkH96Cu",
        "outputId": "3f2077f2-939c-4bb4-8587-9e247dd26b17"
      },
      "execution_count": 8,
      "outputs": [
        {
          "output_type": "stream",
          "name": "stdout",
          "text": [
            "\n",
            "비정규분포 데이터\n",
            "검정 통계량: 0.753301964050664, p-value: 8.592375693786602e-08\n",
            "귀무가설 기각: 데이터는 정규분포를 따르지 않습니다.\n"
          ]
        }
      ]
    },
    {
      "cell_type": "code",
      "source": [],
      "metadata": {
        "id": "lGSeBZvP95_y"
      },
      "execution_count": null,
      "outputs": []
    },
    {
      "cell_type": "markdown",
      "source": [
        "## Kolmogorov-Smirnov(KS) 검정\n",
        "표본 데이터 분포와 기준 분포(정규분포 등) 또는 두 표본 데이터 분포를 비교하여 동일한 분포를 따르는지 검정하는 비모수(non-parametric) 검정 방법입니다.\n",
        "\n",
        "1. 기본 아이디어\n",
        "- KS 검정은 누적분포함수(CDF)의 최대 차이를 기반으로 테이서를 검정함.\n",
        "- 첫 번째 경우 : 표본 데이터가 특정 분포를 따르는지 검정.\n",
        "- 두 번째 경우 : 두 표본 데이터 분포가 동일한지 비교\n",
        "\n",
        "2. 검정 통계량 : $D$\n",
        "\n",
        "$$D =  \\sup_x| F_{1}(x) -  F_{2}(x)  |$$"
      ],
      "metadata": {
        "id": "-VM61dMbQYxZ"
      }
    },
    {
      "cell_type": "code",
      "source": [
        "from scipy.stats import kstest, ks_2samp\n",
        "import numpy as np\n",
        "\n",
        "# 1. 데이터 생성\n",
        "# 정규분포를 따르는 데이터\n",
        "data_normal = np.random.normal(0, 1, 1000)\n",
        "\n",
        "# 기준 분포 (정규분포)와 비교\n",
        "statistic, p_value = kstest(data_normal, 'norm')\n",
        "print(\"KS 검정 (표본 데이터 vs 정규분포)\")\n",
        "print(f\"KS 통계량: {statistic:.4f}, p-value: {p_value:.4f}\")\n",
        "if p_value < 0.05:\n",
        "    print(\"귀무가설 기각: 데이터는 정규분포를 따르지 않습니다.\\n\")\n",
        "else:\n",
        "    print(\"귀무가설 채택: 데이터는 정규분포를 따릅니다.\\n\")\n",
        "\n"
      ],
      "metadata": {
        "colab": {
          "base_uri": "https://localhost:8080/"
        },
        "id": "nWydOJHFRmgc",
        "outputId": "1b6bff33-3f3c-4e5d-f266-c389abc548ab"
      },
      "execution_count": 9,
      "outputs": [
        {
          "output_type": "stream",
          "name": "stdout",
          "text": [
            "KS 검정 (표본 데이터 vs 정규분포)\n",
            "KS 통계량: 0.0252, p-value: 0.5421\n",
            "귀무가설 채택: 데이터는 정규분포를 따릅니다.\n",
            "\n"
          ]
        }
      ]
    },
    {
      "cell_type": "code",
      "source": [
        "# 2. 두 표본 데이터 비교\n",
        "data_exponential = np.random.exponential(1, 1000)\n",
        "\n",
        "statistic_2samp, p_value_2samp = ks_2samp(data_normal, data_exponential)\n",
        "print(\"KS 검정 (두 표본 데이터 비교)\")\n",
        "print(f\"KS 통계량: {statistic_2samp:.4f}, p-value: {p_value_2samp:.4f}\")\n",
        "if p_value_2samp < 0.05:\n",
        "    print(\"귀무가설 기각: 두 데이터는 동일한 분포를 따르지 않습니다.\\n\")\n",
        "else:\n",
        "    print(\"귀무가설 채택: 두 데이터는 동일한 분포를 따릅니다.\\n\")"
      ],
      "metadata": {
        "colab": {
          "base_uri": "https://localhost:8080/"
        },
        "id": "Wwc10iJgRuTk",
        "outputId": "97f2b630-0c96-4351-d0d9-ad30e79af7a6"
      },
      "execution_count": 10,
      "outputs": [
        {
          "output_type": "stream",
          "name": "stdout",
          "text": [
            "KS 검정 (두 표본 데이터 비교)\n",
            "KS 통계량: 0.4790, p-value: 0.0000\n",
            "귀무가설 기각: 두 데이터는 동일한 분포를 따르지 않습니다.\n",
            "\n"
          ]
        }
      ]
    },
    {
      "cell_type": "markdown",
      "source": [
        "KS test를 활용한 포아송 분포 검정\n",
        "\n",
        "1. 검정 과정\n",
        "  1. 포아송 분포의 파라미터 추정\n",
        "    - 포아송 분포는 단일 파라미터 $\\lambda$(평균과 분산이 동일)를 사용하여 정의.\n",
        "    - 데이터의 표본 평균($\\overline{x}$)을 사용해 $\\lambda$를 추정.\n",
        "  2. 이론적 분포(CDF) 생성\n",
        "    - 추정된 $\\lambda$값으로 이론적인 포아송 분포의 누적분포함수(CDF)를 계산\n",
        "\n",
        "  3. ECDF 계산\n",
        "    - 표본 데이터에서 경험적 누적분포함수(ECDF)를 계산\n",
        "\n",
        "  4. KS 검점 시행\n",
        "\n",
        "- 포아송 분포는 이산형 분포입니다. 따라서 KS 검정에서 $D$ 계산이 약간의 불연속성 문제를 일으킬 수 있습니다.\n",
        "\n",
        "- 이러한 경우, 포아송 분포에 특화된 Chi-Square 적합도 검정을 함께 사용하는 것이 좋습니다.\n"
      ],
      "metadata": {
        "id": "pc5bFru9Sgs2"
      }
    },
    {
      "cell_type": "code",
      "source": [
        "from scipy.stats import kstest, poisson\n",
        "import numpy as np\n",
        "\n",
        "# 1. 데이터 생성 (포아송 분포를 따르는 데이터)\n",
        "np.random.seed(42)  # 재현성을 위해 고정\n",
        "lambda_true = 5  # 실제 포아송 분포의 평균\n",
        "data = np.random.poisson(lam=lambda_true, size=100)\n",
        "\n",
        "# 2. 포아송 분포의 파라미터 추정\n",
        "lambda_estimated = np.mean(data)\n",
        "\n",
        "# 3. KS 검정 수행\n",
        "# 이론적 포아송 분포와 표본 데이터 비교\n",
        "statistic, p_value = kstest(data, lambda x: poisson.cdf(x, mu=lambda_estimated))\n",
        "\n",
        "# 4. 결과 출력\n",
        "print(f\"추정된 λ (평균): {lambda_estimated:.4f}\")\n",
        "print(f\"KS 통계량: {statistic:.4f}, p-value: {p_value:.4f}\")\n",
        "if p_value < 0.05:\n",
        "    print(\"귀무가설 기각: 데이터는 해당 포아송 분포를 따르지 않습니다.\")\n",
        "else:\n",
        "    print(\"귀무가설 채택: 데이터는 해당 포아송 분포를 따릅니다.\")"
      ],
      "metadata": {
        "colab": {
          "base_uri": "https://localhost:8080/"
        },
        "id": "hwNPhQTxRywV",
        "outputId": "dcb1c1ee-22fb-44e0-d895-6874fb45f83d"
      },
      "execution_count": 11,
      "outputs": [
        {
          "output_type": "stream",
          "name": "stdout",
          "text": [
            "추정된 λ (평균): 4.9400\n",
            "KS 통계량: 0.1609, p-value: 0.0099\n",
            "귀무가설 기각: 데이터는 해당 포아송 분포를 따르지 않습니다.\n"
          ]
        }
      ]
    },
    {
      "cell_type": "code",
      "source": [],
      "metadata": {
        "id": "qgttwoSsSZbg"
      },
      "execution_count": null,
      "outputs": []
    }
  ]
}